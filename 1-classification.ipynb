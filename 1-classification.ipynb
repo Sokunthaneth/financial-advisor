{
 "cells": [
  {
   "cell_type": "code",
   "execution_count": 7,
   "metadata": {},
   "outputs": [
    {
     "name": "stdout",
     "output_type": "stream",
     "text": [
      "Extracted Information:\n",
      "Here is the extracted information:\n",
      "\n",
      "**1. Features of the house loan**\n",
      "\n",
      "* Loan size up to US$ 300,000 but not more than 70% of the house price\n",
      "* Maximum loan period: 15 years\n",
      "\t+ For customers who are currently employed by public organizations, national or international agencies\n",
      "\t+ For other customers with good health and under 60 years of age (from receiving loan until end of loan period)\n",
      "* Interest rate from 10% per annum\n",
      "\n",
      "**2. Requirements for the house loan**\n",
      "\n",
      "* Any Cambodian citizen\n",
      "* Having a proper work, salary, or business\n",
      "* Good history, reputation, attitude, and willingness to pay back to ACLEDA Bank\n",
      "* Permanent address certified by local authority\n",
      "* Identity documents (ID card, family book, etc.)\n",
      "\n",
      "**3. Website information**\n",
      "\n",
      "* Website: https://www.acledabank.com.kh/kh/eng/ps_crhousingloan?t=p\n"
     ]
    }
   ],
   "source": [
    "# Import necessary libraries\n",
    "from langchain_community.llms import Ollama\n",
    "import os\n",
    "\n",
    "# Initialize the LLaMA 3.1 model\n",
    "llm = Ollama(model=\"llama3.1\")\n",
    "\n",
    "# Read the content of the file\n",
    "file_path = \"./data/house-loan/acleda.txt\"\n",
    "with open(file_path, 'r') as file:\n",
    "    file_content = file.read()\n",
    "\n",
    "# Define the extraction prompt\n",
    "prompt = f\"\"\"\n",
    "Extract the following information from the text:\n",
    "1. Features of the house loan\n",
    "2. Requirements for the house loan\n",
    "3. Website information\n",
    "\n",
    "Text:\n",
    "{file_content}\n",
    "\n",
    "Features:\n",
    "Requirements:\n",
    "Website:\n",
    "\"\"\"\n",
    "\n",
    "# Run the model to extract information\n",
    "response = llm.invoke(prompt)\n",
    "\n",
    "# Display the results\n",
    "print(\"Extracted Information:\")\n",
    "print(response)"
   ]
  }
 ],
 "metadata": {
  "kernelspec": {
   "display_name": "venv",
   "language": "python",
   "name": "python3"
  },
  "language_info": {
   "codemirror_mode": {
    "name": "ipython",
    "version": 3
   },
   "file_extension": ".py",
   "mimetype": "text/x-python",
   "name": "python",
   "nbconvert_exporter": "python",
   "pygments_lexer": "ipython3",
   "version": "3.12.5"
  }
 },
 "nbformat": 4,
 "nbformat_minor": 2
}
